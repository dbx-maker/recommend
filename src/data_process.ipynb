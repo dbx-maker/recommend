{
 "cells": [
  {
   "cell_type": "code",
   "execution_count": 2,
   "id": "11b6727c",
   "metadata": {},
   "outputs": [],
   "source": [
    "import pandas as pd\n",
    "path = '/home/dbx/BI/recommender/data/raw/yelp_academic_dataset_review.csv'\n",
    "#data = pd.read_csv(path)\n"
   ]
  },
  {
   "cell_type": "code",
   "execution_count": 3,
   "id": "5c51f24f",
   "metadata": {},
   "outputs": [],
   "source": [
    "#\n",
    "import numpy as np\n",
    "n_review = data.shape[0]\n",
    "vec = np.random.random((n_review,768))\n",
    "np.save('random_array.npy', vec)"
   ]
  },
  {
   "cell_type": "code",
   "execution_count": 13,
   "id": "7a7b463a",
   "metadata": {},
   "outputs": [
    {
     "data": {
      "text/plain": [
       "(13035, 21)"
      ]
     },
     "execution_count": 13,
     "metadata": {},
     "output_type": "execute_result"
    }
   ],
   "source": [
    "from pathlib import Path\n",
    "import numpy as np\n",
    "PROC_DIR = Path(\"data/processed\")\n",
    "\n",
    "business_feats = np.load('/home/dbx/BI/recommender/data/processed/business_features.npy') \n",
    "business_feats.shape"
   ]
  },
  {
   "cell_type": "code",
   "execution_count": 14,
   "id": "2aebcc9e",
   "metadata": {},
   "outputs": [
    {
     "data": {
      "text/plain": [
       "np.int64(9429)"
      ]
     },
     "execution_count": 14,
     "metadata": {},
     "output_type": "execute_result"
    }
   ],
   "source": [
    "np.isnan(business_feats).sum()"
   ]
  },
  {
   "cell_type": "code",
   "execution_count": 11,
   "id": "24dbe714",
   "metadata": {},
   "outputs": [
    {
     "data": {
      "text/plain": [
       "np.int64(264306)"
      ]
     },
     "execution_count": 11,
     "metadata": {},
     "output_type": "execute_result"
    }
   ],
   "source": [
    "import pandas as pd\n",
    "data = pd.read_csv('/home/dbx/BI/recommender/data/raw/LDA_theta_synced.csv')\n",
    "arr = np.array(data.iloc[:,1:-1])\n",
    "(arr > 0).sum()"
   ]
  },
  {
   "cell_type": "code",
   "execution_count": 16,
   "id": "10d13552",
   "metadata": {},
   "outputs": [
    {
     "data": {
      "text/plain": [
       "np.int64(12586)"
      ]
     },
     "execution_count": 16,
     "metadata": {},
     "output_type": "execute_result"
    }
   ],
   "source": [
    "review = pd.read_csv('/home/dbx/BI/recommender/data/raw/yelp_academic_dataset_review.csv')\n",
    "business = pd.read_csv('/home/dbx/BI/recommender/data/raw/LDA_theta_synced.csv')\n",
    "common_in_review = business['business_id'].isin(review['business_id']).sum()\n",
    "common_in_review"
   ]
  },
  {
   "cell_type": "code",
   "execution_count": null,
   "id": "bba4492e",
   "metadata": {},
   "outputs": [],
   "source": []
  }
 ],
 "metadata": {
  "kernelspec": {
   "display_name": "Python 3",
   "language": "python",
   "name": "python3"
  },
  "language_info": {
   "codemirror_mode": {
    "name": "ipython",
    "version": 3
   },
   "file_extension": ".py",
   "mimetype": "text/x-python",
   "name": "python",
   "nbconvert_exporter": "python",
   "pygments_lexer": "ipython3",
   "version": "3.10.12"
  }
 },
 "nbformat": 4,
 "nbformat_minor": 5
}
